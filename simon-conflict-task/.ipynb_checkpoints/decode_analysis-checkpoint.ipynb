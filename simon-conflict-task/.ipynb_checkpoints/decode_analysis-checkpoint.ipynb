{
 "cells": [
  {
   "cell_type": "markdown",
   "metadata": {},
   "source": [
    "## Setup"
   ]
  },
  {
   "cell_type": "code",
   "execution_count": 20,
   "metadata": {
    "collapsed": true,
    "scrolled": true
   },
   "outputs": [],
   "source": [
    "from scipy.io import loadmat\n",
    "\n",
    "import scipy.stats as stats\n",
    "\n",
    "from sklearn.pipeline import make_pipeline\n",
    "from sklearn.preprocessing import StandardScaler\n",
    "from sklearn.model_selection import permutation_test_score\n",
    "\n",
    "from sklearn import svm\n",
    "from sklearn import ensemble\n",
    "from sklearn import linear_model\n",
    "\n",
    "import mne\n",
    "\n",
    "import numpy as np\n",
    "import pandas as pd\n",
    "import pandas_profiling\n",
    "\n",
    "from matplotlib import pyplot as plt\n",
    "\n",
    "from IPython import display as idisplay\n",
    "\n",
    "import os\n",
    "import re\n",
    "from itertools import combinations"
   ]
  },
  {
   "cell_type": "code",
   "execution_count": 2,
   "metadata": {
    "collapsed": true
   },
   "outputs": [],
   "source": [
    "%matplotlib inline"
   ]
  },
  {
   "cell_type": "markdown",
   "metadata": {},
   "source": [
    "## Config"
   ]
  },
  {
   "cell_type": "code",
   "execution_count": 3,
   "metadata": {
    "collapsed": true
   },
   "outputs": [],
   "source": [
    "PATHS = {\n",
    "    'DATA_DIR': 'data/'\n",
    "}\n",
    "\n",
    "PATHS['TIME_DOMAIN_DATA_FILE'] = os.path.join(PATHS['DATA_DIR'], 'ID_25_epochsAll.set')\n",
    "PATHS['DESIGN_MATRIX_FILE'] = os.path.join(PATHS['DATA_DIR'], 'ID_25_epochsAll_designMat.mat')"
   ]
  },
  {
   "cell_type": "markdown",
   "metadata": {},
   "source": [
    "## Prepare Data"
   ]
  },
  {
   "cell_type": "markdown",
   "metadata": {},
   "source": [
    "### 1. Design matrix"
   ]
  },
  {
   "cell_type": "code",
   "execution_count": 4,
   "metadata": {
    "collapsed": true,
    "scrolled": true
   },
   "outputs": [],
   "source": [
    "def load_design_matrix(path):\n",
    "    mat = loadmat(path)\n",
    "    columns = np.hstack(mat['epochs_allVars'].flat)\n",
    "    df = pd.DataFrame(data=mat['epochs_all'], columns=columns)\n",
    "    \n",
    "    return df"
   ]
  },
  {
   "cell_type": "code",
   "execution_count": 5,
   "metadata": {
    "collapsed": true,
    "scrolled": true
   },
   "outputs": [],
   "source": [
    "df_design = load_design_matrix(PATHS['DESIGN_MATRIX_FILE'])"
   ]
  },
  {
   "cell_type": "code",
   "execution_count": 6,
   "metadata": {
    "collapsed": true,
    "scrolled": true
   },
   "outputs": [],
   "source": [
    "def cast_types(df, col_types):\n",
    "    for col in col_types:\n",
    "        df[col] = df[col].astype(col_types[col])\n",
    "        \n",
    "    return df"
   ]
  },
  {
   "cell_type": "code",
   "execution_count": 7,
   "metadata": {
    "collapsed": true
   },
   "outputs": [],
   "source": [
    "col_types = {\n",
    "    'epochN': int,\n",
    "    'artifactFlag': 'category',\n",
    "    'binIndicator': 'category',\n",
    "    'avg_reward': float,\n",
    "    'reward': float,\n",
    "    'iti': float,\n",
    "    'trial_num': float,\n",
    "    'run_num': float,\n",
    "    'trial_in_run': float,\n",
    "    'rt': float,\n",
    "    'congruencyDC': 'category',\n",
    "    'accDC': 'category',\n",
    "    'previousCongruencyDC': 'category',\n",
    "    'previousAcc': 'category',\n",
    "    'trialType': 'category',\n",
    "    'trialType': 'category',\n",
    "    'keyRep': 'category',\n",
    "    'cnvAmplitude': float\n",
    "}"
   ]
  },
  {
   "cell_type": "code",
   "execution_count": 8,
   "metadata": {
    "collapsed": true
   },
   "outputs": [],
   "source": [
    "df_design = cast_types(df_design, col_types)"
   ]
  },
  {
   "cell_type": "code",
   "execution_count": 9,
   "metadata": {
    "collapsed": true
   },
   "outputs": [],
   "source": [
    "def convert_snake_case(s):\n",
    "    result = re.sub('(.)([A-Z][a-z]+)', r'\\1_\\2', s)\n",
    "    return re.sub('([a-z0-9])([A-Z])', r'\\1_\\2', result).lower()\n",
    "\n",
    "def clean_column_names(df, converter=convert_snake_case):\n",
    "    df.columns = [converter(c) for c in df.columns]\n",
    "    \n",
    "    return df"
   ]
  },
  {
   "cell_type": "code",
   "execution_count": 10,
   "metadata": {
    "collapsed": true
   },
   "outputs": [],
   "source": [
    "df_design = clean_column_names(df_design)\n",
    "# display(df_design)"
   ]
  },
  {
   "cell_type": "markdown",
   "metadata": {},
   "source": [
    "#### 1a.) Study correlations between continuous variables (Pearson's R)"
   ]
  },
  {
   "cell_type": "code",
   "execution_count": 11,
   "metadata": {
    "collapsed": true,
    "scrolled": true
   },
   "outputs": [],
   "source": [
    "df_design_numeric = df_design.select_dtypes(include=[float, int]).dropna()\n",
    "# pandas_profiling.ProfileReport(df_design_numeric)"
   ]
  },
  {
   "cell_type": "raw",
   "metadata": {},
   "source": [
    "Some observations:\n",
    "- (strong) negative correlation between avg_reward and epoch_n, trial_num, or run_num\n",
    "- (weak) negative correlation between reward and epoch_n, trial_num, or run_num\n",
    "- (weak) positive correlation between cnv_amplitude and rt (reaction time)"
   ]
  },
  {
   "cell_type": "markdown",
   "metadata": {},
   "source": [
    "#### 1b.) Study relationships between categorical variables (chi-square test of independence)"
   ]
  },
  {
   "cell_type": "code",
   "execution_count": 12,
   "metadata": {
    "collapsed": true
   },
   "outputs": [],
   "source": [
    "def get_chi2(df, c1, c2):\n",
    "    contingency_table = [[sum((df[c1] == v1) & (df[c2] == v2)) for v1 in df[c1].unique()] for v2 in df[c2].unique()]\n",
    "\n",
    "    return stats.chi2_contingency(contingency_table)"
   ]
  },
  {
   "cell_type": "code",
   "execution_count": 13,
   "metadata": {},
   "outputs": [
    {
     "name": "stdout",
     "output_type": "stream",
     "text": [
      "(artifact_flag, bin_indicator): 8.99E-01 \n",
      "(artifact_flag, congruency_dc): 8.99E-01 \n",
      "(artifact_flag, acc_dc): 4.68E-01 \n",
      "(artifact_flag, previous_congruency_dc): 6.11E-01 \n",
      "(artifact_flag, previous_acc): 8.44E-01 \n",
      "(artifact_flag, trial_type): 8.89E-01 \n",
      "(artifact_flag, key_rep): 3.77E-01 \n",
      "(bin_indicator, congruency_dc): 3.66E-151 **\n",
      "(bin_indicator, acc_dc): 9.43E-30 **\n",
      "(bin_indicator, previous_congruency_dc): 4.93E-01 \n",
      "(bin_indicator, previous_acc): 8.44E-01 \n",
      "(bin_indicator, trial_type): 1.88E-149 **\n",
      "(bin_indicator, key_rep): 4.46E-01 \n",
      "(congruency_dc, acc_dc): 9.43E-30 **\n",
      "(congruency_dc, previous_congruency_dc): 4.93E-01 \n",
      "(congruency_dc, previous_acc): 8.44E-01 \n",
      "(congruency_dc, trial_type): 1.88E-149 **\n",
      "(congruency_dc, key_rep): 4.46E-01 \n",
      "(acc_dc, previous_congruency_dc): 9.71E-01 \n",
      "(acc_dc, previous_acc): 4.08E-01 \n",
      "(acc_dc, trial_type): 2.05E-32 **\n",
      "(acc_dc, key_rep): 3.57E-01 \n",
      "(previous_congruency_dc, previous_acc): 7.30E-29 **\n",
      "(previous_congruency_dc, trial_type): 1.88E-149 **\n",
      "(previous_congruency_dc, key_rep): 9.83E-01 \n",
      "(previous_acc, trial_type): 8.45E-28 **\n",
      "(previous_acc, key_rep): 1.80E-01 \n",
      "(trial_type, key_rep): 6.32E-01 \n"
     ]
    }
   ],
   "source": [
    "df_design_category = df_design.select_dtypes(include=['category']).dropna()\n",
    "\n",
    "for c1, c2 in combinations(df_design_category.columns, 2):\n",
    "    chi2, p, dof, f_exp = get_chi2(df_design_category, c1, c2)\n",
    "    print(\"(%s, %s): %.2E %s\" % (c1, c2, p, '**' if p < .05 else ''))"
   ]
  },
  {
   "cell_type": "markdown",
   "metadata": {},
   "source": [
    "#### 1c.) Study categorical variable class distributions"
   ]
  },
  {
   "cell_type": "code",
   "execution_count": 14,
   "metadata": {
    "collapsed": true
   },
   "outputs": [],
   "source": [
    "# pandas_profiling.ProfileReport(df_design_category)"
   ]
  },
  {
   "cell_type": "raw",
   "metadata": {},
   "source": [
    "Some observations:\n",
    "- heavy skew in most categories (e.g. acc_dc 621:70, artifact_flag 606:85, congruency_dc 512:179, trial_type: 387:130:125:49)"
   ]
  },
  {
   "cell_type": "markdown",
   "metadata": {},
   "source": [
    "#### 1d.) One-way ANOVA"
   ]
  },
  {
   "cell_type": "code",
   "execution_count": 15,
   "metadata": {
    "collapsed": true
   },
   "outputs": [],
   "source": [
    "# TODO"
   ]
  },
  {
   "cell_type": "markdown",
   "metadata": {},
   "source": [
    "### 2. Time-domain EEG data"
   ]
  },
  {
   "cell_type": "code",
   "execution_count": 16,
   "metadata": {
    "collapsed": true,
    "scrolled": true
   },
   "outputs": [],
   "source": [
    "def load_epochs(path=PATHS['TIME_DOMAIN_DATA_FILE'], verbose=False):\n",
    "    epochs = mne.io.read_epochs_eeglab(path, verbose=verbose)\n",
    "    \n",
    "    return epochs\n",
    "\n",
    "def get_single_epoch(epochs, epoch_index=0):\n",
    "    df = pd.DataFrame(epochs[epoch_index].get_data()[0].T)\n",
    "    df.columns = epochs.info['ch_names']\n",
    "    \n",
    "    return df"
   ]
  },
  {
   "cell_type": "code",
   "execution_count": 17,
   "metadata": {},
   "outputs": [
    {
     "name": "stdout",
     "output_type": "stream",
     "text": [
      "At least one epoch has multiple events. Only the latency of the first event will be retained.\n"
     ]
    },
    {
     "name": "stderr",
     "output_type": "stream",
     "text": [
      "<ipython-input-16-5dd5a6aef91f>:2: RuntimeWarning: At least one epoch has multiple events. Only the latency of the first event will be retained.\n",
      "  epochs = mne.io.read_epochs_eeglab(path, verbose=verbose)\n"
     ]
    }
   ],
   "source": [
    "epochs = load_epochs()\n",
    "df = get_single_epoch(epochs, epoch_index=0)\n",
    "# pandas_profiling.ProfileReport(df)"
   ]
  },
  {
   "cell_type": "markdown",
   "metadata": {},
   "source": [
    "## Decode EEG data to columns in the design matrix"
   ]
  },
  {
   "cell_type": "markdown",
   "metadata": {},
   "source": [
    "### Helper functions"
   ]
  },
  {
   "cell_type": "code",
   "execution_count": 51,
   "metadata": {
    "collapsed": true
   },
   "outputs": [],
   "source": [
    "def set_events(epochs, df_design, target, event_ids):\n",
    "    epochs.events[:, 2] = df_design[target]\n",
    "    epochs.event_id = event_ids\n",
    "    \n",
    "    return epochs\n",
    "\n",
    "def drop(epochs, df_design, bools):\n",
    "    epochs.drop(bools)\n",
    "    df_design = df_design[[not b for b in bools]]\n",
    "    \n",
    "    return epochs, df_design\n",
    "\n",
    "def drop_na(epochs, df_design):\n",
    "    epochs.drop([any(x) for x in df_design.isnull().values])\n",
    "    df_design = df_design.dropna()\n",
    "    \n",
    "    return epochs, df_design\n",
    "\n",
    "def clean_epochs(epochs, df_design):\n",
    "    epochs = epochs.crop(-.5, 1.)\n",
    "    epochs = epochs.resample(100)\n",
    "    epochs, df_design = drop(epochs, df_design, df_design['artifact_flag'] == 0)\n",
    "    epochs, df_design = drop(epochs, df_design, df_design['acc_dc'] == 1)\n",
    "    epochs, df_design = drop_na(epochs, df_design)\n",
    "    \n",
    "    return epochs, df_design\n",
    "\n",
    "def get_classifier_training_data(epochs, df_design, target, event_ids):\n",
    "    epochs = set_events(epochs, df_design, target, event_ids)\n",
    "    epochs, df_design = clean_epochs(epochs, df_design)\n",
    "    epochs, _ = epochs.equalize_event_counts(sorted(event_ids))\n",
    "    \n",
    "    X = epochs.get_data()\n",
    "    y = epochs.events[:, 2]\n",
    "    \n",
    "    return X, y\n",
    "\n",
    "def get_regressor_training_data(epochs, df_design, target):\n",
    "    epochs, df_design = clean_epochs(epochs, df_design)\n",
    "    \n",
    "    X = epochs.get_data()\n",
    "    y = df_design[target]\n",
    "    \n",
    "    return X, y\n",
    "\n",
    "def decode(X, y, estimator, scoring, cv=4, permutations=100):\n",
    "    pipeline = make_pipeline(StandardScaler(), estimator)\n",
    "    slider = mne.decoding.SlidingEstimator(pipeline, scoring=scoring)\n",
    "    \n",
    "    cv_scores = []\n",
    "    p_values = []\n",
    "    \n",
    "    for t in range(X.shape[-1]):\n",
    "        X_t = X[:,:,t]\n",
    "        cv_score, permutation_scores, p_value = permutation_test_score(pipeline, X_t, y, cv=cv, n_permutations=permutations)\n",
    "        cv_scores.append(cv_score)\n",
    "        p_values.append(p_value)\n",
    "        \n",
    "    return cv_scores, p_values\n",
    "\n",
    "def plot_scores(times, scores, scoring, title, chance=None, x_label='time (s)'):\n",
    "    fig, ax = plt.subplots()\n",
    "    \n",
    "    ax.plot(times, scores)\n",
    "    \n",
    "    ax.set_xlabel(x_label)\n",
    "    ax.set_ylabel(scoring)\n",
    "    \n",
    "    ax.axvline(.0, color='k', linestyle='-')\n",
    "    if chance:\n",
    "        ax.axhline(chance, color='k', linestyle='--')\n",
    "    \n",
    "    ax.set_title(title)\n",
    "    \n",
    "    plt.show()"
   ]
  },
  {
   "cell_type": "markdown",
   "metadata": {},
   "source": [
    "### 1. Decode congruency"
   ]
  },
  {
   "cell_type": "code",
   "execution_count": null,
   "metadata": {
    "scrolled": false
   },
   "outputs": [
    {
     "name": "stdout",
     "output_type": "stream",
     "text": [
      "At least one epoch has multiple events. Only the latency of the first event will be retained.\n"
     ]
    },
    {
     "name": "stderr",
     "output_type": "stream",
     "text": [
      "<ipython-input-16-5dd5a6aef91f>:2: RuntimeWarning: At least one epoch has multiple events. Only the latency of the first event will be retained.\n",
      "  epochs = mne.io.read_epochs_eeglab(path, verbose=verbose)\n"
     ]
    }
   ],
   "source": [
    "epochs = load_epochs()\n",
    "X, y = get_classifier_training_data(epochs, df_design, 'congruency_dc', {'congruent': 0, 'incongruent': 1})\n",
    "\n",
    "scores, p_values = decode(X, y, linear_model.LogisticRegression(), 'roc_auc', cv=4)\n",
    "plot_scores(epochs.times, scores, 'AUC', 'Decoding Congruency with Time-Domain Data (Logistic Regression)', chance=.5)\n",
    "plot_scores(epochs.times, p_values, 'p-value', 'Decoding Congruency with Time-Domain Data (Logistic Regression)', chance=.05)"
   ]
  },
  {
   "cell_type": "markdown",
   "metadata": {},
   "source": [
    "### 2. Decode reaction time"
   ]
  },
  {
   "cell_type": "code",
   "execution_count": null,
   "metadata": {
    "scrolled": false
   },
   "outputs": [],
   "source": [
    "epochs = load_epochs()\n",
    "X, y = get_regressor_training_data(epochs, df_design, 'rt')\n",
    "\n",
    "scores, p_values = decode(X, y, linear_model.LinearRegression(), 'neg_mean_absolute_error', cv=4)\n",
    "plot_scores(epochs.times, scores, 'Neg. MAE', 'Decoding Reaction Time with Time-Domain Data (Linear Regression)', chance=None)\n",
    "plot_scores(epochs.times, p_values, 'p-value', 'Decoding Reaction Time with Time-Domain Data (Linear Regression)', chance=.05)"
   ]
  },
  {
   "cell_type": "markdown",
   "metadata": {},
   "source": [
    "### 3. Decode average reward"
   ]
  },
  {
   "cell_type": "code",
   "execution_count": null,
   "metadata": {},
   "outputs": [],
   "source": [
    "epochs = load_epochs()\n",
    "X, y = get_regressor_training_data(epochs, df_design, 'avg_reward')\n",
    "\n",
    "scores, p_values = decode(X, y, linear_model.LinearRegression(), scoring='neg_mean_absolute_error', cv=4)\n",
    "plot_scores(epochs.times, scores, 'Neg. MAE', 'Decoding Average Reward with Time-Domain Data (Linear Regression)', chance=None)\n",
    "plot_scores(epochs.times, p_values, 'p-value', 'Decoding Average Reward with Time-Domain Data (Linear Regression)', chance=.05)\n",
    "\n",
    "scores, p_values = decode(X, y, svm.SVR(), scoring='neg_mean_absolute_error', cv=4)\n",
    "plot_scores(epochs.times, scores, 'Neg. MAE', 'Decoding Average Reward with Time-Domain Data (SVM)', chance=None)\n",
    "plot_scores(epochs.times, p_values, 'p-value', 'Decoding Average Reward with Time-Domain Data (SVM)', chance=.05)"
   ]
  }
 ],
 "metadata": {
  "kernelspec": {
   "display_name": "Python 3",
   "language": "python",
   "name": "python3"
  },
  "language_info": {
   "codemirror_mode": {
    "name": "ipython",
    "version": 3
   },
   "file_extension": ".py",
   "mimetype": "text/x-python",
   "name": "python",
   "nbconvert_exporter": "python",
   "pygments_lexer": "ipython3",
   "version": "3.6.3"
  }
 },
 "nbformat": 4,
 "nbformat_minor": 2
}
