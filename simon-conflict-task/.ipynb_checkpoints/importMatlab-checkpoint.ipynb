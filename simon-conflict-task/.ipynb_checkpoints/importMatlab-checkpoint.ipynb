{
 "cells": [
  {
   "cell_type": "code",
   "execution_count": 1,
   "metadata": {},
   "outputs": [],
   "source": [
    "import pandas as pd\n",
    "import scipy.io as sio\n",
    "import os\n",
    "import mne"
   ]
  },
  {
   "cell_type": "code",
   "execution_count": 3,
   "metadata": {},
   "outputs": [],
   "source": [
    "designMat = sio.loadmat('../Data/ID_25_epochsAll_designMat.mat')"
   ]
  },
  {
   "cell_type": "code",
   "execution_count": 4,
   "metadata": {},
   "outputs": [
    {
     "data": {
      "text/plain": [
       "dict"
      ]
     },
     "execution_count": 4,
     "metadata": {},
     "output_type": "execute_result"
    }
   ],
   "source": [
    "type(designMat)"
   ]
  },
  {
   "cell_type": "code",
   "execution_count": 5,
   "metadata": {},
   "outputs": [
    {
     "name": "stdout",
     "output_type": "stream",
     "text": [
      "868\n",
      "1\n"
     ]
    }
   ],
   "source": [
    "print(len(designMat['epochs_all']))\n",
    "print(len(designMat['epochs_allVars']))"
   ]
  },
  {
   "cell_type": "code",
   "execution_count": 19,
   "metadata": {},
   "outputs": [
    {
     "data": {
      "text/plain": [
       "array([[ 1.0000000e+00,  0.0000000e+00,  2.0000000e+00, ...,\n",
       "                   nan,            nan, -6.0788980e+00],\n",
       "       [ 2.0000000e+00,  1.0000000e+00,  1.0000000e+00, ...,\n",
       "                   nan,            nan, -9.9426069e+00],\n",
       "       [ 3.0000000e+00,  1.0000000e+00,  1.0000000e+00, ...,\n",
       "                   nan,            nan, -1.6250822e+01],\n",
       "       ...,\n",
       "       [ 8.6600000e+02,  1.0000000e+00,  1.0000000e+00, ...,\n",
       "         3.0000000e+00,  0.0000000e+00, -2.3390614e+01],\n",
       "       [ 8.6700000e+02,  1.0000000e+00,  1.0000000e+00, ...,\n",
       "         1.0000000e+00,  0.0000000e+00, -2.6600258e+00],\n",
       "       [ 8.6800000e+02,  1.0000000e+00,  1.0000000e+00, ...,\n",
       "         1.0000000e+00,  1.0000000e+00,  7.5597686e-01]], dtype=float32)"
      ]
     },
     "execution_count": 19,
     "metadata": {},
     "output_type": "execute_result"
    }
   ],
   "source": [
    "designMat['epochs_all']"
   ]
  },
  {
   "cell_type": "code",
   "execution_count": 7,
   "metadata": {},
   "outputs": [],
   "source": [
    "tf_fourierSpec = sio.loadmat(\"../Data/ID_25_singleTrials.mat\")"
   ]
  },
  {
   "cell_type": "code",
   "execution_count": 8,
   "metadata": {},
   "outputs": [
    {
     "name": "stdout",
     "output_type": "stream",
     "text": [
      "At least one epoch has multiple events. Only the latency of the first event will be retained.\n",
      "Extracting parameters from ../Data/ID_25_epochsAll.set...\n"
     ]
    },
    {
     "name": "stderr",
     "output_type": "stream",
     "text": [
      "<ipython-input-8-518ac4769edc>:1: RuntimeWarning: At least one epoch has multiple events. Only the latency of the first event will be retained.\n",
      "  eeg = mne.read_epochs_eeglab(\"../Data/ID_25_epochsAll.set\")\n"
     ]
    },
    {
     "name": "stdout",
     "output_type": "stream",
     "text": [
      "868 matching events found\n",
      "No baseline correction applied\n",
      "Not setting metadata\n",
      "0 projection items activated\n",
      "Ready.\n"
     ]
    }
   ],
   "source": [
    "eeg = mne.read_epochs_eeglab(\"../Data/ID_25_epochsAll.set\")"
   ]
  },
  {
   "cell_type": "code",
   "execution_count": 9,
   "metadata": {},
   "outputs": [
    {
     "data": {
      "text/plain": [
       "mne.io.eeglab.eeglab.EpochsEEGLAB"
      ]
     },
     "execution_count": 9,
     "metadata": {},
     "output_type": "execute_result"
    }
   ],
   "source": [
    "type(eeg)"
   ]
  },
  {
   "cell_type": "code",
   "execution_count": 10,
   "metadata": {},
   "outputs": [
    {
     "data": {
      "text/plain": [
       "<Info | 17 non-empty fields\n",
       "    bads : list | 0 items\n",
       "    buffer_size_sec : float | 1.0\n",
       "    ch_names : list | Fp1, Fpz, Fp2, AF8, AF4, AFz, AF3, AF7, F7, ...\n",
       "    chs : list | 70 items (EEG: 70)\n",
       "    comps : list | 0 items\n",
       "    custom_ref_applied : bool | False\n",
       "    dev_head_t : Transform | 3 items\n",
       "    dig : list | 70 items\n",
       "    events : list | 0 items\n",
       "    highpass : float | 0.0 Hz\n",
       "    hpi_meas : list | 0 items\n",
       "    hpi_results : list | 0 items\n",
       "    lowpass : float | 256.0 Hz\n",
       "    nchan : int | 70\n",
       "    proc_history : list | 0 items\n",
       "    projs : list | 0 items\n",
       "    sfreq : float | 512.0 Hz\n",
       "    acq_pars : NoneType\n",
       "    acq_stim : NoneType\n",
       "    ctf_head_t : NoneType\n",
       "    description : NoneType\n",
       "    dev_ctf_t : NoneType\n",
       "    experimenter : NoneType\n",
       "    file_id : NoneType\n",
       "    gantry_angle : NoneType\n",
       "    hpi_subsystem : NoneType\n",
       "    kit_system_id : NoneType\n",
       "    line_freq : NoneType\n",
       "    meas_date : NoneType\n",
       "    meas_id : NoneType\n",
       "    proj_id : NoneType\n",
       "    proj_name : NoneType\n",
       "    subject_info : NoneType\n",
       "    xplotter_layout : NoneType\n",
       ">"
      ]
     },
     "execution_count": 10,
     "metadata": {},
     "output_type": "execute_result"
    }
   ],
   "source": [
    "eeg.info # see also https://martinos.org/mne/stable/auto_tutorials/plot_object_epochs.html"
   ]
  },
  {
   "cell_type": "code",
   "execution_count": 11,
   "metadata": {},
   "outputs": [
    {
     "data": {
      "text/plain": [
       "array([-2.5       , -2.49804688, -2.49609375, ...,  2.49414062,\n",
       "        2.49609375,  2.49804688])"
      ]
     },
     "execution_count": 11,
     "metadata": {},
     "output_type": "execute_result"
    }
   ],
   "source": [
    "eeg.times"
   ]
  },
  {
   "cell_type": "code",
   "execution_count": 12,
   "metadata": {},
   "outputs": [
    {
     "data": {
      "text/plain": [
       "<EpochsEEGLAB  |   1 events (all good), -2.5 - 2.49805 sec, baseline off, ~1.5 MB, data loaded,\n",
       " '100001/39/B2(108)/115/146/56': 1>"
      ]
     },
     "execution_count": 12,
     "metadata": {},
     "output_type": "execute_result"
    }
   ],
   "source": [
    "eeg[0]"
   ]
  },
  {
   "cell_type": "code",
   "execution_count": 13,
   "metadata": {},
   "outputs": [
    {
     "data": {
      "text/plain": [
       "<EpochsEEGLAB  |   10 events (all good), -2.5 - 2.49805 sec, baseline off, ~13.8 MB, data loaded,\n",
       " '100001/39/B2(108)/115/146/56': 1\n",
       " '146/16/B2(108)/117/147': 1\n",
       " '146/63/B1(102)/111/146/63': 1\n",
       " '146/63/B1(103)/110/146/23': 1\n",
       " '146/90/B1(102)/111/146/72': 1\n",
       " '23/B1(102)/111/146/26': 1\n",
       " '23/B2(108)/115/146': 1\n",
       " '26/B1(102)/111/146': 1\n",
       " '56/B1(103)/110/146/90': 1\n",
       " '72/B1(102)/111/146/63': 1>"
      ]
     },
     "execution_count": 13,
     "metadata": {},
     "output_type": "execute_result"
    }
   ],
   "source": [
    "eeg[0:10]"
   ]
  },
  {
   "cell_type": "code",
   "execution_count": 15,
   "metadata": {},
   "outputs": [],
   "source": [
    "epochedData = eeg.get_data()"
   ]
  },
  {
   "cell_type": "code",
   "execution_count": 17,
   "metadata": {},
   "outputs": [
    {
     "data": {
      "text/plain": [
       "array([[[ 2.51185837e-05,  2.19411392e-05,  1.92352009e-05, ...,\n",
       "          1.31204443e-05,  1.36835184e-05,  1.34456244e-05],\n",
       "        [ 5.06423235e-06,  2.27934194e-06, -1.82334101e-06, ...,\n",
       "          4.75797081e-06,  6.17373705e-06,  1.11057177e-05],\n",
       "        [-6.87382174e-06, -8.67058182e-06, -1.18208790e-05, ...,\n",
       "          6.92893934e-06,  1.39551849e-05,  1.45999746e-05],\n",
       "        ...,\n",
       "        [ 2.45779457e-05,  2.01706676e-05,  1.77354450e-05, ...,\n",
       "          5.81282043e-06,  1.79320168e-06, -3.54712224e-06],\n",
       "        [ 8.21314430e-06,  5.47495222e-06,  2.79061604e-06, ...,\n",
       "          3.40256786e-06,  1.49916375e-06, -1.69190395e-06],\n",
       "        [-6.32330751e-06, -1.05158920e-05, -1.16386795e-05, ...,\n",
       "         -5.40768957e-06, -1.45296144e-06,  3.29567862e-06]],\n",
       "\n",
       "       [[-1.21342382e-05, -8.93268013e-06, -3.47085094e-06, ...,\n",
       "          5.09514952e-06,  2.38150096e-06,  3.80097747e-06],\n",
       "        [-8.77406895e-07, -5.75625134e-06, -9.27551746e-06, ...,\n",
       "          2.36457729e-06, -1.07960749e-06, -1.88267136e-06],\n",
       "        [ 9.07718754e-06,  4.36607504e-06,  2.16173828e-08, ...,\n",
       "         -3.10926819e-06, -9.54097366e-06, -1.50106401e-05],\n",
       "        ...,\n",
       "        [-1.16739922e-05, -1.44101667e-05, -1.76282177e-05, ...,\n",
       "         -1.65690269e-05, -1.83181648e-05, -1.90503178e-05],\n",
       "        [-2.01468887e-05, -1.95013351e-05, -2.31113091e-05, ...,\n",
       "         -2.28485794e-05, -2.51093826e-05, -2.58068600e-05],\n",
       "        [-1.03997707e-05, -1.18549633e-05, -1.57254200e-05, ...,\n",
       "         -1.75423660e-05, -1.76486130e-05, -1.97128830e-05]],\n",
       "\n",
       "       [[ 2.07624969e-05,  2.22318077e-05,  2.46395741e-05, ...,\n",
       "         -3.27388835e-06, -9.62783992e-07,  2.31390214e-06],\n",
       "        [ 9.24778938e-06,  8.94437218e-06,  8.77607536e-06, ...,\n",
       "         -1.27063713e-05, -1.52564201e-05, -1.17158079e-05],\n",
       "        [ 2.49070301e-05,  2.60953007e-05,  2.59316311e-05, ...,\n",
       "          3.65158010e-06, -2.29046988e-06,  2.76607394e-07],\n",
       "        ...,\n",
       "        [ 1.61336746e-05,  1.43366899e-05,  1.36188593e-05, ...,\n",
       "         -1.43956590e-06, -3.52612948e-06, -7.22989798e-07],\n",
       "        [ 1.73275816e-06, -2.92141765e-07, -1.48923862e-06, ...,\n",
       "          6.95920646e-07,  7.92266548e-07,  4.14561892e-06],\n",
       "        [ 6.44414282e-06,  5.91643095e-06,  7.05503035e-06, ...,\n",
       "         -1.94919825e-06, -9.89218330e-06, -7.57566309e-06]],\n",
       "\n",
       "       ...,\n",
       "\n",
       "       [[-6.32083988e-06, -2.18740730e-05, -2.33384628e-05, ...,\n",
       "          2.61354790e-05,  4.01321678e-05,  3.97148018e-05],\n",
       "        [ 2.88824606e-06, -4.76538897e-06, -1.05267372e-05, ...,\n",
       "          3.26202583e-05,  3.73366318e-05,  3.92207870e-05],\n",
       "        [-5.38222933e-06, -1.03338690e-05, -1.05392942e-05, ...,\n",
       "          3.65410919e-05,  3.44795341e-05,  3.47966690e-05],\n",
       "        ...,\n",
       "        [ 9.91640854e-06,  1.45332292e-07, -5.70671082e-06, ...,\n",
       "          1.72556973e-05,  1.85303326e-05,  1.29812183e-05],\n",
       "        [ 5.76982403e-06, -1.41682041e-06, -8.85139084e-06, ...,\n",
       "          4.68719864e-06,  7.44098091e-06,  4.87712765e-06],\n",
       "        [ 1.19477901e-05,  5.86612940e-06,  8.42233241e-07, ...,\n",
       "          1.62159271e-05,  1.68381710e-05,  1.70182991e-05]],\n",
       "\n",
       "       [[-9.44635963e-06, -4.54010057e-06, -9.83269882e-06, ...,\n",
       "         -1.24950256e-05, -1.71655579e-05, -1.32943878e-05],\n",
       "        [-7.85765839e-06, -1.21486721e-05, -1.63547249e-05, ...,\n",
       "         -2.41477528e-05, -2.64960594e-05, -2.13008289e-05],\n",
       "        [-1.59705210e-06, -1.32144547e-05, -2.05807934e-05, ...,\n",
       "         -1.89407749e-05, -2.33692780e-05, -2.04607925e-05],\n",
       "        ...,\n",
       "        [-8.82422638e-06, -1.06422768e-05, -1.39973783e-05, ...,\n",
       "         -7.57568121e-06, -1.08822994e-05, -5.95232010e-06],\n",
       "        [-6.10783768e-06, -8.46024609e-06, -1.00627499e-05, ...,\n",
       "         -5.63450098e-06, -7.70819664e-06, -3.91740918e-06],\n",
       "        [-3.60957837e-06, -5.44918776e-06, -5.97092390e-06, ...,\n",
       "         -1.54926996e-05, -1.72499466e-05, -1.19472513e-05]],\n",
       "\n",
       "       [[ 2.48696651e-05,  2.87651138e-05,  3.08354626e-05, ...,\n",
       "         -2.09624529e-06, -9.83448601e-06, -1.22342281e-05],\n",
       "        [ 3.76511345e-05,  4.07225723e-05,  4.21926498e-05, ...,\n",
       "         -3.18924737e-06, -8.16894245e-06, -9.20366001e-06],\n",
       "        [ 4.92608910e-05,  5.56911392e-05,  5.99088936e-05, ...,\n",
       "         -9.07090092e-06, -6.29801273e-06, -2.42996430e-06],\n",
       "        ...,\n",
       "        [-1.50307214e-06, -2.72727728e-06, -2.54932451e-06, ...,\n",
       "         -3.03381176e-05, -3.40772591e-05, -3.70907631e-05],\n",
       "        [ 1.80320816e-05,  1.82674007e-05,  1.51771355e-05, ...,\n",
       "         -2.57184525e-05, -3.00665913e-05, -2.91198730e-05],\n",
       "        [ 1.97098427e-05,  2.03735924e-05,  1.83942451e-05, ...,\n",
       "         -1.51218290e-05, -1.82199116e-05, -2.19063797e-05]]])"
      ]
     },
     "execution_count": 17,
     "metadata": {},
     "output_type": "execute_result"
    }
   ],
   "source": [
    "epochedData"
   ]
  }
 ],
 "metadata": {
  "kernelspec": {
   "display_name": "Python 3",
   "language": "python",
   "name": "python3"
  },
  "language_info": {
   "codemirror_mode": {
    "name": "ipython",
    "version": 3
   },
   "file_extension": ".py",
   "mimetype": "text/x-python",
   "name": "python",
   "nbconvert_exporter": "python",
   "pygments_lexer": "ipython3",
   "version": "3.6.6"
  }
 },
 "nbformat": 4,
 "nbformat_minor": 2
}
